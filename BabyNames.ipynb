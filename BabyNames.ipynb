{
 "metadata": {
  "name": ""
 },
 "nbformat": 3,
 "nbformat_minor": 0,
 "worksheets": [
  {
   "cells": [
    {
     "cell_type": "code",
     "collapsed": false,
     "input": [
      "from pandas import *"
     ],
     "language": "python",
     "metadata": {},
     "outputs": [],
     "prompt_number": 1
    },
    {
     "cell_type": "code",
     "collapsed": false,
     "input": [
      "names = read_csv('baby-names2.csv')"
     ],
     "language": "python",
     "metadata": {},
     "outputs": [],
     "prompt_number": 3
    },
    {
     "cell_type": "code",
     "collapsed": false,
     "input": [
      "boys = names[names.sex=='boy']\n",
      "girls = names[names.sex=='girl']"
     ],
     "language": "python",
     "metadata": {},
     "outputs": [],
     "prompt_number": 9
    },
    {
     "cell_type": "code",
     "collapsed": false,
     "input": [
      "names.groupby(['year','sex']).size()"
     ],
     "language": "python",
     "metadata": {},
     "outputs": [
      {
       "metadata": {},
       "output_type": "pyout",
       "prompt_number": 28,
       "text": [
        "year  sex \n",
        "1880  boy     1000\n",
        "      girl    1000\n",
        "1881  boy     1000\n",
        "      girl    1000\n",
        "1882  boy     1000\n",
        "      girl    1000\n",
        "1883  boy     1000\n",
        "      girl    1000\n",
        "1884  boy     1000\n",
        "      girl    1000\n",
        "1885  boy     1000\n",
        "      girl    1000\n",
        "1886  boy     1000\n",
        "      girl    1000\n",
        "1887  boy     1000\n",
        "...\n",
        "2001  girl    1000\n",
        "2002  boy     1000\n",
        "      girl    1000\n",
        "2003  boy     1000\n",
        "      girl    1000\n",
        "2004  boy     1000\n",
        "      girl    1000\n",
        "2005  boy     1000\n",
        "      girl    1000\n",
        "2006  boy     1000\n",
        "      girl    1000\n",
        "2007  boy     1000\n",
        "      girl    1000\n",
        "2008  boy     1000\n",
        "      girl    1000\n",
        "Length: 258, dtype: int64"
       ]
      }
     ],
     "prompt_number": 28
    },
    {
     "cell_type": "code",
     "collapsed": false,
     "input": [
      "boys.ix[boys[boys.year==2000].prop.idxmax()]"
     ],
     "language": "python",
     "metadata": {},
     "outputs": [
      {
       "metadata": {},
       "output_type": "pyout",
       "prompt_number": 32,
       "text": [
        "year           2000\n",
        "name          Jacob\n",
        "prop       0.016514\n",
        "sex             boy\n",
        "soundex        J210\n",
        "Name: 120000, dtype: object"
       ]
      }
     ],
     "prompt_number": 32
    },
    {
     "cell_type": "code",
     "collapsed": false,
     "input": [
      "def get_max_record(group):\n",
      "    return group.ix[group.prop.idxmax()]"
     ],
     "language": "python",
     "metadata": {},
     "outputs": [],
     "prompt_number": 36
    },
    {
     "cell_type": "code",
     "collapsed": false,
     "input": [
      "get_max_record(boys)"
     ],
     "language": "python",
     "metadata": {},
     "outputs": [
      {
       "metadata": {},
       "output_type": "pyout",
       "prompt_number": 37,
       "text": [
        "year           1880\n",
        "name           John\n",
        "prop       0.081541\n",
        "sex             boy\n",
        "soundex        J500\n",
        "Name: 0, dtype: object"
       ]
      }
     ],
     "prompt_number": 37
    },
    {
     "cell_type": "code",
     "collapsed": false,
     "input": [
      "result = boys.groupby('year').apply(get_max_record)"
     ],
     "language": "python",
     "metadata": {},
     "outputs": [],
     "prompt_number": 39
    },
    {
     "cell_type": "code",
     "collapsed": false,
     "input": [
      "result.prop.plot()"
     ],
     "language": "python",
     "metadata": {},
     "outputs": [
      {
       "metadata": {},
       "output_type": "pyout",
       "prompt_number": 40,
       "text": [
        "<matplotlib.axes.AxesSubplot at 0x1095a0f10>"
       ]
      },
      {
       "metadata": {},
       "output_type": "display_data",
       "png": "[encoded data removed]",
       "text": [
        "<matplotlib.figure.Figure at 0x1095a0f90>"
       ]
      }
     ],
     "prompt_number": 40
    },
    {
     "cell_type": "code",
     "collapsed": false,
     "input": [
      "idf = boys.set_index(['name','year'])"
     ],
     "language": "python",
     "metadata": {},
     "outputs": [],
     "prompt_number": 48
    },
    {
     "cell_type": "code",
     "collapsed": false,
     "input": [
      "idf.ix['Brian'].prop.plot()"
     ],
     "language": "python",
     "metadata": {},
     "outputs": [
      {
       "metadata": {},
       "output_type": "pyout",
       "prompt_number": 62,
       "text": [
        "<matplotlib.axes.AxesSubplot at 0x10c646a50>"
       ]
      },
      {
       "metadata": {},
       "output_type": "display_data",
       "png": "[encoded data removed]",
       "text": [
        "<matplotlib.figure.Figure at 0x10b65f850>"
       ]
      }
     ],
     "prompt_number": 62
    },
    {
     "cell_type": "code",
     "collapsed": false,
     "input": [
      "boys.groupby('name')['prop'].mean()"
     ],
     "language": "python",
     "metadata": {},
     "outputs": [
      {
       "metadata": {},
       "output_type": "pyout",
       "prompt_number": 64,
       "text": [
        "name\n",
        "Aaden       0.000442\n",
        "Aarav       0.000101\n",
        "Aaron       0.002266\n",
        "Ab          0.000044\n",
        "Abb         0.000046\n",
        "Abbie       0.000046\n",
        "Abbott      0.000044\n",
        "Abdiel      0.000092\n",
        "Abdul       0.000064\n",
        "Abdullah    0.000094\n",
        "Abe         0.000225\n",
        "Abel        0.000152\n",
        "Abelardo    0.000041\n",
        "Abie        0.000042\n",
        "Abner       0.000130\n",
        "...\n",
        "Zander       0.000369\n",
        "Zane         0.000175\n",
        "Zavier       0.000098\n",
        "Zayden       0.000185\n",
        "Zayne        0.000091\n",
        "Zeb          0.000080\n",
        "Zebulon      0.000055\n",
        "Zechariah    0.000112\n",
        "Zed          0.000056\n",
        "Zeke         0.000055\n",
        "Zenas        0.000052\n",
        "Zeno         0.000071\n",
        "Zigmund      0.000052\n",
        "Zion         0.000490\n",
        "Zollie       0.000060\n",
        "Name: prop, Length: 3437, dtype: float64"
       ]
      }
     ],
     "prompt_number": 64
    },
    {
     "cell_type": "code",
     "collapsed": false,
     "input": [
      "boys.groupby('name')['prop'].mean().order()"
     ],
     "language": "python",
     "metadata": {},
     "outputs": [
      {
       "metadata": {},
       "output_type": "pyout",
       "prompt_number": 66,
       "text": [
        "name\n",
        "Kennard     0.000027\n",
        "Danniel     0.000027\n",
        "Deryl       0.000028\n",
        "Grayling    0.000028\n",
        "Michial     0.000028\n",
        "Cheryl      0.000028\n",
        "Dwyane      0.000028\n",
        "Levern      0.000029\n",
        "Theodis     0.000029\n",
        "Randolf     0.000029\n",
        "Diane       0.000029\n",
        "Renard      0.000029\n",
        "Kimball     0.000029\n",
        "Patric      0.000029\n",
        "Lex         0.000030\n",
        "...\n",
        "Paul       0.008322\n",
        "Daniel     0.008517\n",
        "Frank      0.010386\n",
        "Edward     0.011069\n",
        "Richard    0.014183\n",
        "Thomas     0.014739\n",
        "George     0.016254\n",
        "David      0.016737\n",
        "Joseph     0.017771\n",
        "Michael    0.018342\n",
        "Charles    0.019521\n",
        "Robert     0.029625\n",
        "William    0.034182\n",
        "James      0.035465\n",
        "John       0.041082\n",
        "Name: prop, Length: 3437, dtype: float64"
       ]
      }
     ],
     "prompt_number": 66
    },
    {
     "cell_type": "code",
     "collapsed": false,
     "input": [
      "boys['prop'].describe()"
     ],
     "language": "python",
     "metadata": {},
     "outputs": [
      {
       "metadata": {},
       "output_type": "pyout",
       "prompt_number": 69,
       "text": [
        "count    129000.000000\n",
        "mean          0.000916\n",
        "std           0.003441\n",
        "min           0.000026\n",
        "25%           0.000071\n",
        "50%           0.000142\n",
        "75%           0.000453\n",
        "max           0.081541\n",
        "Name: prop, dtype: float64"
       ]
      }
     ],
     "prompt_number": 69
    },
    {
     "cell_type": "code",
     "collapsed": false,
     "input": [
      "result = boys.groupby('name')['prop'].describe()"
     ],
     "language": "python",
     "metadata": {},
     "outputs": [],
     "prompt_number": 71
    },
    {
     "cell_type": "code",
     "collapsed": false,
     "input": [
      "result"
     ],
     "language": "python",
     "metadata": {},
     "outputs": [
      {
       "metadata": {},
       "output_type": "pyout",
       "prompt_number": 72,
       "text": [
        "name        \n",
        "Aaden  count    1.000000\n",
        "       mean     0.000442\n",
        "       std           NaN\n",
        "       min      0.000442\n",
        "       25%      0.000442\n",
        "       50%      0.000442\n",
        "       75%      0.000442\n",
        "       max      0.000442\n",
        "Aarav  count    1.000000\n",
        "       mean     0.000101\n",
        "       std           NaN\n",
        "       min      0.000101\n",
        "       25%      0.000101\n",
        "       50%      0.000101\n",
        "       75%      0.000101\n",
        "...\n",
        "Zion    mean     0.000490\n",
        "        std      0.000165\n",
        "        min      0.000119\n",
        "        25%      0.000419\n",
        "        50%      0.000482\n",
        "        75%      0.000558\n",
        "        max      0.000731\n",
        "Zollie  count    8.000000\n",
        "        mean     0.000060\n",
        "        std      0.000012\n",
        "        min      0.000049\n",
        "        25%      0.000053\n",
        "        50%      0.000055\n",
        "        75%      0.000061\n",
        "        max      0.000087\n",
        "Length: 27496, dtype: float64"
       ]
      }
     ],
     "prompt_number": 72
    },
    {
     "cell_type": "code",
     "collapsed": false,
     "input": [
      "def get_quantile_count(group,quantile=0.5):\n",
      "    df = group.sort_index(by='prop',ascending=False)\n",
      "    return df.prop.cumsum().searchsorted(quantile)[0]\n",
      "boy_ct = boys.groupby('year').apply(get_quantile_count)\n",
      "girl_ct = girls.groupby('year').apply(get_quantile_count)\n",
      "boy_ct.plot(label='boy')\n",
      "girl_ct.plot(label='girl')\n",
      "legend(loc='best')"
     ],
     "language": "python",
     "metadata": {},
     "outputs": [
      {
       "metadata": {},
       "output_type": "pyout",
       "prompt_number": 93,
       "text": [
        "<matplotlib.legend.Legend at 0x10e4a2950>"
       ]
      },
      {
       "metadata": {},
       "output_type": "display_data",
       "png": "[encoded data removed]",
       "text": [
        "<matplotlib.figure.Figure at 0x10e477990>"
       ]
      }
     ],
     "prompt_number": 93
    },
    {
     "cell_type": "code",
     "collapsed": false,
     "input": [
      "boys[boys.year==2008].prop.rank()"
     ],
     "language": "python",
     "metadata": {},
     "outputs": [
      {
       "metadata": {},
       "output_type": "pyout",
       "prompt_number": 95,
       "text": [
        "128000    1000\n",
        "128001     999\n",
        "128002     998\n",
        "128003     997\n",
        "128004     996\n",
        "128005     995\n",
        "128006     994\n",
        "128007     993\n",
        "128008     992\n",
        "128009     991\n",
        "128010     990\n",
        "128011     989\n",
        "128012     988\n",
        "128013     987\n",
        "128014     986\n",
        "...\n",
        "128985    16.0\n",
        "128986    12.5\n",
        "128987    12.5\n",
        "128988    12.5\n",
        "128989    12.5\n",
        "128990     7.5\n",
        "128991     7.5\n",
        "128992     7.5\n",
        "128993     7.5\n",
        "128994     7.5\n",
        "128995     7.5\n",
        "128996     2.5\n",
        "128997     2.5\n",
        "128998     2.5\n",
        "128999     2.5\n",
        "Name: prop, Length: 1000, dtype: float64"
       ]
      }
     ],
     "prompt_number": 95
    },
    {
     "cell_type": "code",
     "collapsed": false,
     "input": [
      "grouped = boys.groupby('year')['prop']\n",
      "boys['year_rank'] = grouped.transform(Series.rank)\n",
      "idf = boys.set_index(['name','year'])\n",
      "idf.ix['Wesley'].year_rank.plot()"
     ],
     "language": "python",
     "metadata": {},
     "outputs": [
      {
       "metadata": {},
       "output_type": "pyout",
       "prompt_number": 129,
       "text": [
        "<matplotlib.axes.AxesSubplot at 0x1124b3290>"
       ]
      },
      {
       "metadata": {},
       "output_type": "display_data",
       "png": "[encoded data removed]",
       "text": [
        "<matplotlib.figure.Figure at 0x112416fd0>"
       ]
      }
     ],
     "prompt_number": 129
    },
    {
     "cell_type": "code",
     "collapsed": false,
     "input": [
      "births = read_csv('births.csv')"
     ],
     "language": "python",
     "metadata": {},
     "outputs": [],
     "prompt_number": 126
    },
    {
     "cell_type": "code",
     "collapsed": false,
     "input": [
      "merged = merge(names,births,on=['year','sex'])"
     ],
     "language": "python",
     "metadata": {},
     "outputs": [],
     "prompt_number": 135
    },
    {
     "cell_type": "code",
     "collapsed": false,
     "input": [
      "merged['persons'] = np.floor(merged.prop * merged.births)"
     ],
     "language": "python",
     "metadata": {},
     "outputs": [],
     "prompt_number": 136
    },
    {
     "cell_type": "code",
     "collapsed": false,
     "input": [
      "merged.groupby(['name','sex'])['persons'].sum().order()"
     ],
     "language": "python",
     "metadata": {},
     "outputs": [
      {
       "metadata": {},
       "output_type": "pyout",
       "prompt_number": 140,
       "text": [
        "name      sex \n",
        "Alabama   girl    3\n",
        "Daisye    girl    3\n",
        "Crissie   girl    3\n",
        "Dollye    girl    3\n",
        "Dema      girl    3\n",
        "Chestina  girl    3\n",
        "Ala       girl    3\n",
        "Clem      girl    3\n",
        "Chester   girl    3\n",
        "Eithel    girl    3\n",
        "Amey      girl    3\n",
        "Achsah    girl    3\n",
        "Alfred    girl    3\n",
        "Esequiel  boy     4\n",
        "Amil      boy     4\n",
        "...\n",
        "Elizabeth    girl    1540430\n",
        "Patricia     girl    1567602\n",
        "Daniel       boy     1776483\n",
        "Christopher  boy     1924919\n",
        "Thomas       boy     2239606\n",
        "Charles      boy     2320818\n",
        "Joseph       boy     2490274\n",
        "Richard      boy     2535681\n",
        "David        boy     3495940\n",
        "William      boy     3951365\n",
        "Mary         girl    4097626\n",
        "Michael      boy     4207352\n",
        "Robert       boy     4752198\n",
        "John         boy     5016124\n",
        "James        boy     5021269\n",
        "Name: persons, Length: 7455, dtype: float64"
       ]
      }
     ],
     "prompt_number": 140
    },
    {
     "cell_type": "code",
     "collapsed": false,
     "input": [],
     "language": "python",
     "metadata": {},
     "outputs": []
    }
   ],
   "metadata": {}
  }
 ]
}